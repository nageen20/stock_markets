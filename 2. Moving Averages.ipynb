{
 "cells": [
  {
   "cell_type": "code",
   "execution_count": 1,
   "metadata": {},
   "outputs": [],
   "source": [
    "# Get all the required imports\n",
    "import pandas as pd\n",
    "import matplotlib.pyplot as plt\n",
    "import glob\n",
    "import plotly.graph_objs as go\n",
    "import ipywidgets as w\n",
    "from IPython.display import display"
   ]
  },
  {
   "cell_type": "code",
   "execution_count": 2,
   "metadata": {},
   "outputs": [
    {
     "data": {
      "text/html": [
       "        <script type=\"text/javascript\">\n",
       "        window.PlotlyConfig = {MathJaxConfig: 'local'};\n",
       "        if (window.MathJax) {MathJax.Hub.Config({SVG: {font: \"STIX-Web\"}});}\n",
       "        if (typeof require !== 'undefined') {\n",
       "        require.undef(\"plotly\");\n",
       "        requirejs.config({\n",
       "            paths: {\n",
       "                'plotly': ['https://cdn.plot.ly/plotly-latest.min']\n",
       "            }\n",
       "        });\n",
       "        require(['plotly'], function(Plotly) {\n",
       "            window._Plotly = Plotly;\n",
       "        });\n",
       "        }\n",
       "        </script>\n",
       "        "
      ]
     },
     "metadata": {},
     "output_type": "display_data"
    }
   ],
   "source": [
    "# Standard plotly imports\n",
    "import chart_studio.plotly as py\n",
    "from plotly.offline import iplot, init_notebook_mode, plot\n",
    "# Using plotly + cufflinks in offline mode\n",
    "import cufflinks\n",
    "cufflinks.go_offline(connected=True)\n",
    "#init_notebook_mode(connected=True)\n",
    "\n",
    "import plotly.express as px\n",
    "import chart_studio"
   ]
  },
  {
   "cell_type": "code",
   "execution_count": 3,
   "metadata": {},
   "outputs": [],
   "source": [
    "import warnings\n",
    "warnings.filterwarnings(\"ignore\")"
   ]
  },
  {
   "cell_type": "code",
   "execution_count": 4,
   "metadata": {},
   "outputs": [],
   "source": [
    "%config IPCompleter.greedy=True"
   ]
  },
  {
   "cell_type": "code",
   "execution_count": 5,
   "metadata": {},
   "outputs": [],
   "source": [
    "# Read the list of nifty 50 stocks into a dataframe\n",
    "df_nifty50 = pd.read_csv('ind_nifty50list.csv')\n",
    "\n",
    "# Get the nifty50 synbols into a python list\n",
    "nifty50_symbols = list(df_nifty50['Symbol'])"
   ]
  },
  {
   "cell_type": "code",
   "execution_count": 6,
   "metadata": {},
   "outputs": [],
   "source": [
    "# Loop through all the excel files and load only nifty50 stocks\n",
    "# We see that we don't have data files for all the nifty50 stocks. We only have data for 44 stocks\n",
    "df_stock_data = pd.DataFrame()\n",
    "for file in glob.glob('HISTORICAL_DATA\\HISTORICAL_DATA\\*.csv'):\n",
    "    file_name = file.split('\\\\')[-1].split('_')[0]\n",
    "    if file_name in nifty50_symbols:\n",
    "        df_temp = pd.read_csv(file)\n",
    "        df_temp['stock_symbol'] = file_name\n",
    "        df_stock_data = df_stock_data.append(df_temp)"
   ]
  },
  {
   "cell_type": "code",
   "execution_count": 7,
   "metadata": {},
   "outputs": [],
   "source": [
    "# Calculate some basic stats about each stock\n",
    "# Getting the minimun, maximum and mean values of each stock over the entire time period\n",
    "stock_stats = df_stock_data.groupby(['stock_symbol'])['close'].agg(['min','max','mean'])"
   ]
  },
  {
   "cell_type": "code",
   "execution_count": 8,
   "metadata": {},
   "outputs": [
    {
     "data": {
      "application/vnd.plotly.v1+json": {
       "config": {
        "plotlyServerURL": "https://plot.ly"
       },
       "data": [
        {
         "name": "min",
         "type": "bar",
         "x": [
          "ASIANPAINT",
          "AXISBANK",
          "BAJAJ-AUTO",
          "BAJAJFINSV",
          "BAJFINANCE",
          "BHARTIARTL",
          "BPCL",
          "BRITANNIA",
          "CIPLA",
          "COALINDIA",
          "DRREDDY",
          "EICHERMOT",
          "GAIL",
          "GRASIM",
          "HCLTECH",
          "HDFC",
          "HDFCBANK",
          "HINDALCO",
          "HINDUNILVR",
          "ICICIBANK",
          "INDUSINDBK",
          "INFY",
          "IOC",
          "ITC",
          "JSWSTEEL",
          "KOTAKBANK",
          "LT",
          "M&M",
          "MARUTI",
          "NTPC",
          "ONGC",
          "POWERGRID",
          "RELIANCE",
          "SBIN",
          "SUNPHARMA",
          "TATAMOTORS",
          "TATASTEEL",
          "TCS",
          "TECHM",
          "TITAN",
          "ULTRACEMCO",
          "WIPRO",
          "YESBANK",
          "ZEEL"
         ],
         "y": [
          20.773001,
          4.44,
          1948.6500239999998,
          89.158501,
          4.06412,
          9.5261,
          12.3458,
          46.935001,
          50.18,
          213.69999700000002,
          233.36300699999998,
          17.700001,
          16.3125,
          43.764,
          29.725,
          11.2612,
          32.68,
          37.400002,
          106.150002,
          20.1,
          13.6,
          34.177299,
          9.275,
          11.4133,
          10.4,
          1.365,
          34.955601,
          6.475,
          164.300003,
          61.291698,
          10.9889,
          58,
          31.7384,
          13.3461,
          7.54995,
          11.2679,
          37.7575,
          111.550003,
          52.325001,
          1.375,
          255.55000299999998,
          30.2306,
          8.32,
          19.027
         ]
        },
        {
         "name": "max",
         "type": "bar",
         "x": [
          "ASIANPAINT",
          "AXISBANK",
          "BAJAJ-AUTO",
          "BAJAJFINSV",
          "BAJFINANCE",
          "BHARTIARTL",
          "BPCL",
          "BRITANNIA",
          "CIPLA",
          "COALINDIA",
          "DRREDDY",
          "EICHERMOT",
          "GAIL",
          "GRASIM",
          "HCLTECH",
          "HDFC",
          "HDFCBANK",
          "HINDALCO",
          "HINDUNILVR",
          "ICICIBANK",
          "INDUSINDBK",
          "INFY",
          "IOC",
          "ITC",
          "JSWSTEEL",
          "KOTAKBANK",
          "LT",
          "M&M",
          "MARUTI",
          "NTPC",
          "ONGC",
          "POWERGRID",
          "RELIANCE",
          "SBIN",
          "SUNPHARMA",
          "TATAMOTORS",
          "TATASTEEL",
          "TCS",
          "TECHM",
          "TITAN",
          "ULTRACEMCO",
          "WIPRO",
          "YESBANK",
          "ZEEL"
         ],
         "y": [
          1519.300049,
          780.700012,
          3412.9499509999996,
          7721.25,
          3131.75,
          516.773987,
          542.849976,
          3450.070068,
          739.599976,
          443.39999400000005,
          4347.600098,
          32861.898438,
          393.799988,
          1293.449951,
          1183.349976,
          2069.149902,
          2367.949951,
          279.799988,
          1860.550049,
          407.5,
          2023.050049,
          767.25,
          328.5,
          342.5,
          417.049988,
          1417.800049,
          1455.599976,
          983.849976,
          9832.450195,
          237.20799300000002,
          310.433014,
          225.94999700000002,
          1408.849976,
          343.34500099999997,
          1169.300049,
          598.133972,
          891.1900019999999,
          2260.350098,
          837,
          1162.300049,
          4619,
          359.528992,
          394,
          613.400024
         ]
        },
        {
         "name": "avg",
         "type": "bar",
         "x": [
          "ASIANPAINT",
          "AXISBANK",
          "BAJAJ-AUTO",
          "BAJAJFINSV",
          "BAJFINANCE",
          "BHARTIARTL",
          "BPCL",
          "BRITANNIA",
          "CIPLA",
          "COALINDIA",
          "DRREDDY",
          "EICHERMOT",
          "GAIL",
          "GRASIM",
          "HCLTECH",
          "HDFC",
          "HDFCBANK",
          "HINDALCO",
          "HINDUNILVR",
          "ICICIBANK",
          "INDUSINDBK",
          "INFY",
          "IOC",
          "ITC",
          "JSWSTEEL",
          "KOTAKBANK",
          "LT",
          "M&M",
          "MARUTI",
          "NTPC",
          "ONGC",
          "POWERGRID",
          "RELIANCE",
          "SBIN",
          "SUNPHARMA",
          "TATAMOTORS",
          "TATASTEEL",
          "TCS",
          "TECHM",
          "TITAN",
          "ULTRACEMCO",
          "WIPRO",
          "YESBANK",
          "ZEEL"
         ],
         "y": [
          421.140486467722,
          220.82473494300598,
          2696.389619002794,
          1872.2173170433964,
          395.0420333012478,
          266.09549969097895,
          143.3505878906513,
          574.8887155074101,
          303.28665719611945,
          316.45278914163026,
          1412.4555083385505,
          6141.2420261236975,
          171.6991021297536,
          443.26527600959884,
          389.43053598124914,
          731.8706727012247,
          557.9257375278651,
          127.91487899729718,
          479.2739074764198,
          173.05578179121662,
          472.36966927192094,
          294.3189817681074,
          74.26785511438119,
          119.72607891362405,
          102.69248238424397,
          343.2014060505759,
          643.8790253258271,
          307.7671327161343,
          2470.8016708190357,
          131.21579567476942,
          138.6898492270927,
          133.43781083362526,
          388.9265697437398,
          157.08037277353327,
          281.0200833907785,
          198.18237731399955,
          353.1457926274262,
          749.4838713626348,
          362.0572579124601,
          202.3205067034023,
          1837.3354825168035,
          135.035645752035,
          112.55737586410334,
          208.05340712815024
         ]
        }
       ],
       "layout": {
        "autosize": true,
        "barmode": "group",
        "template": {
         "data": {
          "bar": [
           {
            "error_x": {
             "color": "#2a3f5f"
            },
            "error_y": {
             "color": "#2a3f5f"
            },
            "marker": {
             "line": {
              "color": "#E5ECF6",
              "width": 0.5
             }
            },
            "type": "bar"
           }
          ],
          "barpolar": [
           {
            "marker": {
             "line": {
              "color": "#E5ECF6",
              "width": 0.5
             }
            },
            "type": "barpolar"
           }
          ],
          "carpet": [
           {
            "aaxis": {
             "endlinecolor": "#2a3f5f",
             "gridcolor": "white",
             "linecolor": "white",
             "minorgridcolor": "white",
             "startlinecolor": "#2a3f5f"
            },
            "baxis": {
             "endlinecolor": "#2a3f5f",
             "gridcolor": "white",
             "linecolor": "white",
             "minorgridcolor": "white",
             "startlinecolor": "#2a3f5f"
            },
            "type": "carpet"
           }
          ],
          "choropleth": [
           {
            "colorbar": {
             "outlinewidth": 0,
             "ticks": ""
            },
            "type": "choropleth"
           }
          ],
          "contour": [
           {
            "colorbar": {
             "outlinewidth": 0,
             "ticks": ""
            },
            "colorscale": [
             [
              0,
              "#0d0887"
             ],
             [
              0.1111111111111111,
              "#46039f"
             ],
             [
              0.2222222222222222,
              "#7201a8"
             ],
             [
              0.3333333333333333,
              "#9c179e"
             ],
             [
              0.4444444444444444,
              "#bd3786"
             ],
             [
              0.5555555555555556,
              "#d8576b"
             ],
             [
              0.6666666666666666,
              "#ed7953"
             ],
             [
              0.7777777777777778,
              "#fb9f3a"
             ],
             [
              0.8888888888888888,
              "#fdca26"
             ],
             [
              1,
              "#f0f921"
             ]
            ],
            "type": "contour"
           }
          ],
          "contourcarpet": [
           {
            "colorbar": {
             "outlinewidth": 0,
             "ticks": ""
            },
            "type": "contourcarpet"
           }
          ],
          "heatmap": [
           {
            "colorbar": {
             "outlinewidth": 0,
             "ticks": ""
            },
            "colorscale": [
             [
              0,
              "#0d0887"
             ],
             [
              0.1111111111111111,
              "#46039f"
             ],
             [
              0.2222222222222222,
              "#7201a8"
             ],
             [
              0.3333333333333333,
              "#9c179e"
             ],
             [
              0.4444444444444444,
              "#bd3786"
             ],
             [
              0.5555555555555556,
              "#d8576b"
             ],
             [
              0.6666666666666666,
              "#ed7953"
             ],
             [
              0.7777777777777778,
              "#fb9f3a"
             ],
             [
              0.8888888888888888,
              "#fdca26"
             ],
             [
              1,
              "#f0f921"
             ]
            ],
            "type": "heatmap"
           }
          ],
          "heatmapgl": [
           {
            "colorbar": {
             "outlinewidth": 0,
             "ticks": ""
            },
            "colorscale": [
             [
              0,
              "#0d0887"
             ],
             [
              0.1111111111111111,
              "#46039f"
             ],
             [
              0.2222222222222222,
              "#7201a8"
             ],
             [
              0.3333333333333333,
              "#9c179e"
             ],
             [
              0.4444444444444444,
              "#bd3786"
             ],
             [
              0.5555555555555556,
              "#d8576b"
             ],
             [
              0.6666666666666666,
              "#ed7953"
             ],
             [
              0.7777777777777778,
              "#fb9f3a"
             ],
             [
              0.8888888888888888,
              "#fdca26"
             ],
             [
              1,
              "#f0f921"
             ]
            ],
            "type": "heatmapgl"
           }
          ],
          "histogram": [
           {
            "marker": {
             "colorbar": {
              "outlinewidth": 0,
              "ticks": ""
             }
            },
            "type": "histogram"
           }
          ],
          "histogram2d": [
           {
            "colorbar": {
             "outlinewidth": 0,
             "ticks": ""
            },
            "colorscale": [
             [
              0,
              "#0d0887"
             ],
             [
              0.1111111111111111,
              "#46039f"
             ],
             [
              0.2222222222222222,
              "#7201a8"
             ],
             [
              0.3333333333333333,
              "#9c179e"
             ],
             [
              0.4444444444444444,
              "#bd3786"
             ],
             [
              0.5555555555555556,
              "#d8576b"
             ],
             [
              0.6666666666666666,
              "#ed7953"
             ],
             [
              0.7777777777777778,
              "#fb9f3a"
             ],
             [
              0.8888888888888888,
              "#fdca26"
             ],
             [
              1,
              "#f0f921"
             ]
            ],
            "type": "histogram2d"
           }
          ],
          "histogram2dcontour": [
           {
            "colorbar": {
             "outlinewidth": 0,
             "ticks": ""
            },
            "colorscale": [
             [
              0,
              "#0d0887"
             ],
             [
              0.1111111111111111,
              "#46039f"
             ],
             [
              0.2222222222222222,
              "#7201a8"
             ],
             [
              0.3333333333333333,
              "#9c179e"
             ],
             [
              0.4444444444444444,
              "#bd3786"
             ],
             [
              0.5555555555555556,
              "#d8576b"
             ],
             [
              0.6666666666666666,
              "#ed7953"
             ],
             [
              0.7777777777777778,
              "#fb9f3a"
             ],
             [
              0.8888888888888888,
              "#fdca26"
             ],
             [
              1,
              "#f0f921"
             ]
            ],
            "type": "histogram2dcontour"
           }
          ],
          "mesh3d": [
           {
            "colorbar": {
             "outlinewidth": 0,
             "ticks": ""
            },
            "type": "mesh3d"
           }
          ],
          "parcoords": [
           {
            "line": {
             "colorbar": {
              "outlinewidth": 0,
              "ticks": ""
             }
            },
            "type": "parcoords"
           }
          ],
          "pie": [
           {
            "automargin": true,
            "type": "pie"
           }
          ],
          "scatter": [
           {
            "marker": {
             "colorbar": {
              "outlinewidth": 0,
              "ticks": ""
             }
            },
            "type": "scatter"
           }
          ],
          "scatter3d": [
           {
            "line": {
             "colorbar": {
              "outlinewidth": 0,
              "ticks": ""
             }
            },
            "marker": {
             "colorbar": {
              "outlinewidth": 0,
              "ticks": ""
             }
            },
            "type": "scatter3d"
           }
          ],
          "scattercarpet": [
           {
            "marker": {
             "colorbar": {
              "outlinewidth": 0,
              "ticks": ""
             }
            },
            "type": "scattercarpet"
           }
          ],
          "scattergeo": [
           {
            "marker": {
             "colorbar": {
              "outlinewidth": 0,
              "ticks": ""
             }
            },
            "type": "scattergeo"
           }
          ],
          "scattergl": [
           {
            "marker": {
             "colorbar": {
              "outlinewidth": 0,
              "ticks": ""
             }
            },
            "type": "scattergl"
           }
          ],
          "scattermapbox": [
           {
            "marker": {
             "colorbar": {
              "outlinewidth": 0,
              "ticks": ""
             }
            },
            "type": "scattermapbox"
           }
          ],
          "scatterpolar": [
           {
            "marker": {
             "colorbar": {
              "outlinewidth": 0,
              "ticks": ""
             }
            },
            "type": "scatterpolar"
           }
          ],
          "scatterpolargl": [
           {
            "marker": {
             "colorbar": {
              "outlinewidth": 0,
              "ticks": ""
             }
            },
            "type": "scatterpolargl"
           }
          ],
          "scatterternary": [
           {
            "marker": {
             "colorbar": {
              "outlinewidth": 0,
              "ticks": ""
             }
            },
            "type": "scatterternary"
           }
          ],
          "surface": [
           {
            "colorbar": {
             "outlinewidth": 0,
             "ticks": ""
            },
            "colorscale": [
             [
              0,
              "#0d0887"
             ],
             [
              0.1111111111111111,
              "#46039f"
             ],
             [
              0.2222222222222222,
              "#7201a8"
             ],
             [
              0.3333333333333333,
              "#9c179e"
             ],
             [
              0.4444444444444444,
              "#bd3786"
             ],
             [
              0.5555555555555556,
              "#d8576b"
             ],
             [
              0.6666666666666666,
              "#ed7953"
             ],
             [
              0.7777777777777778,
              "#fb9f3a"
             ],
             [
              0.8888888888888888,
              "#fdca26"
             ],
             [
              1,
              "#f0f921"
             ]
            ],
            "type": "surface"
           }
          ],
          "table": [
           {
            "cells": {
             "fill": {
              "color": "#EBF0F8"
             },
             "line": {
              "color": "white"
             }
            },
            "header": {
             "fill": {
              "color": "#C8D4E3"
             },
             "line": {
              "color": "white"
             }
            },
            "type": "table"
           }
          ]
         },
         "layout": {
          "annotationdefaults": {
           "arrowcolor": "#2a3f5f",
           "arrowhead": 0,
           "arrowwidth": 1
          },
          "coloraxis": {
           "colorbar": {
            "outlinewidth": 0,
            "ticks": ""
           }
          },
          "colorscale": {
           "diverging": [
            [
             0,
             "#8e0152"
            ],
            [
             0.1,
             "#c51b7d"
            ],
            [
             0.2,
             "#de77ae"
            ],
            [
             0.3,
             "#f1b6da"
            ],
            [
             0.4,
             "#fde0ef"
            ],
            [
             0.5,
             "#f7f7f7"
            ],
            [
             0.6,
             "#e6f5d0"
            ],
            [
             0.7,
             "#b8e186"
            ],
            [
             0.8,
             "#7fbc41"
            ],
            [
             0.9,
             "#4d9221"
            ],
            [
             1,
             "#276419"
            ]
           ],
           "sequential": [
            [
             0,
             "#0d0887"
            ],
            [
             0.1111111111111111,
             "#46039f"
            ],
            [
             0.2222222222222222,
             "#7201a8"
            ],
            [
             0.3333333333333333,
             "#9c179e"
            ],
            [
             0.4444444444444444,
             "#bd3786"
            ],
            [
             0.5555555555555556,
             "#d8576b"
            ],
            [
             0.6666666666666666,
             "#ed7953"
            ],
            [
             0.7777777777777778,
             "#fb9f3a"
            ],
            [
             0.8888888888888888,
             "#fdca26"
            ],
            [
             1,
             "#f0f921"
            ]
           ],
           "sequentialminus": [
            [
             0,
             "#0d0887"
            ],
            [
             0.1111111111111111,
             "#46039f"
            ],
            [
             0.2222222222222222,
             "#7201a8"
            ],
            [
             0.3333333333333333,
             "#9c179e"
            ],
            [
             0.4444444444444444,
             "#bd3786"
            ],
            [
             0.5555555555555556,
             "#d8576b"
            ],
            [
             0.6666666666666666,
             "#ed7953"
            ],
            [
             0.7777777777777778,
             "#fb9f3a"
            ],
            [
             0.8888888888888888,
             "#fdca26"
            ],
            [
             1,
             "#f0f921"
            ]
           ]
          },
          "colorway": [
           "#636efa",
           "#EF553B",
           "#00cc96",
           "#ab63fa",
           "#FFA15A",
           "#19d3f3",
           "#FF6692",
           "#B6E880",
           "#FF97FF",
           "#FECB52"
          ],
          "font": {
           "color": "#2a3f5f"
          },
          "geo": {
           "bgcolor": "white",
           "lakecolor": "white",
           "landcolor": "#E5ECF6",
           "showlakes": true,
           "showland": true,
           "subunitcolor": "white"
          },
          "hoverlabel": {
           "align": "left"
          },
          "hovermode": "closest",
          "mapbox": {
           "style": "light"
          },
          "paper_bgcolor": "white",
          "plot_bgcolor": "#E5ECF6",
          "polar": {
           "angularaxis": {
            "gridcolor": "white",
            "linecolor": "white",
            "ticks": ""
           },
           "bgcolor": "#E5ECF6",
           "radialaxis": {
            "gridcolor": "white",
            "linecolor": "white",
            "ticks": ""
           }
          },
          "scene": {
           "xaxis": {
            "backgroundcolor": "#E5ECF6",
            "gridcolor": "white",
            "gridwidth": 2,
            "linecolor": "white",
            "showbackground": true,
            "ticks": "",
            "zerolinecolor": "white"
           },
           "yaxis": {
            "backgroundcolor": "#E5ECF6",
            "gridcolor": "white",
            "gridwidth": 2,
            "linecolor": "white",
            "showbackground": true,
            "ticks": "",
            "zerolinecolor": "white"
           },
           "zaxis": {
            "backgroundcolor": "#E5ECF6",
            "gridcolor": "white",
            "gridwidth": 2,
            "linecolor": "white",
            "showbackground": true,
            "ticks": "",
            "zerolinecolor": "white"
           }
          },
          "shapedefaults": {
           "line": {
            "color": "#2a3f5f"
           }
          },
          "ternary": {
           "aaxis": {
            "gridcolor": "white",
            "linecolor": "white",
            "ticks": ""
           },
           "baxis": {
            "gridcolor": "white",
            "linecolor": "white",
            "ticks": ""
           },
           "bgcolor": "#E5ECF6",
           "caxis": {
            "gridcolor": "white",
            "linecolor": "white",
            "ticks": ""
           }
          },
          "title": {
           "x": 0.05
          },
          "xaxis": {
           "automargin": true,
           "gridcolor": "white",
           "linecolor": "white",
           "ticks": "",
           "title": {
            "standoff": 15
           },
           "zerolinecolor": "white",
           "zerolinewidth": 2
          },
          "yaxis": {
           "automargin": true,
           "gridcolor": "white",
           "linecolor": "white",
           "ticks": "",
           "title": {
            "standoff": 15
           },
           "zerolinecolor": "white",
           "zerolinewidth": 2
          }
         }
        },
        "title": {
         "text": "Min-Max-Avg of Nifty50 stocks"
        },
        "xaxis": {
         "autorange": true,
         "range": [
          -0.5,
          43.5
         ],
         "type": "category"
        },
        "yaxis": {
         "autorange": true,
         "range": [
          0,
          34591.47203999999
         ],
         "type": "linear"
        }
       }
      },
      "image/png": "[encoded data removed]",
      "text/html": [
       "<div>\n",
       "        \n",
       "        \n",
       "            <div id=\"59a77b5a-7b78-4451-a9aa-55f7dcbabf7f\" class=\"plotly-graph-div\" style=\"height:525px; width:100%;\"></div>\n",
       "            <script type=\"text/javascript\">\n",
       "                require([\"plotly\"], function(Plotly) {\n",
       "                    window.PLOTLYENV=window.PLOTLYENV || {};\n",
       "                    \n",
       "                if (document.getElementById(\"59a77b5a-7b78-4451-a9aa-55f7dcbabf7f\")) {\n",
       "                    Plotly.newPlot(\n",
       "                        '59a77b5a-7b78-4451-a9aa-55f7dcbabf7f',\n",
       "                        [{\"name\": \"min\", \"type\": \"bar\", \"x\": [\"ASIANPAINT\", \"AXISBANK\", \"BAJAJ-AUTO\", \"BAJAJFINSV\", \"BAJFINANCE\", \"BHARTIARTL\", \"BPCL\", \"BRITANNIA\", \"CIPLA\", \"COALINDIA\", \"DRREDDY\", \"EICHERMOT\", \"GAIL\", \"GRASIM\", \"HCLTECH\", \"HDFC\", \"HDFCBANK\", \"HINDALCO\", \"HINDUNILVR\", \"ICICIBANK\", \"INDUSINDBK\", \"INFY\", \"IOC\", \"ITC\", \"JSWSTEEL\", \"KOTAKBANK\", \"LT\", \"M&M\", \"MARUTI\", \"NTPC\", \"ONGC\", \"POWERGRID\", \"RELIANCE\", \"SBIN\", \"SUNPHARMA\", \"TATAMOTORS\", \"TATASTEEL\", \"TCS\", \"TECHM\", \"TITAN\", \"ULTRACEMCO\", \"WIPRO\", \"YESBANK\", \"ZEEL\"], \"y\": [20.773001, 4.44, 1948.6500239999998, 89.158501, 4.06412, 9.5261, 12.3458, 46.935001, 50.18, 213.69999700000002, 233.36300699999998, 17.700001, 16.3125, 43.764, 29.725, 11.2612, 32.68, 37.400002, 106.150002, 20.1, 13.6, 34.177299, 9.275, 11.4133, 10.4, 1.365, 34.955601, 6.475, 164.300003, 61.291698, 10.9889, 58.0, 31.7384, 13.3461, 7.54995, 11.2679, 37.7575, 111.550003, 52.325001, 1.375, 255.55000299999998, 30.2306, 8.32, 19.027]}, {\"name\": \"max\", \"type\": \"bar\", \"x\": [\"ASIANPAINT\", \"AXISBANK\", \"BAJAJ-AUTO\", \"BAJAJFINSV\", \"BAJFINANCE\", \"BHARTIARTL\", \"BPCL\", \"BRITANNIA\", \"CIPLA\", \"COALINDIA\", \"DRREDDY\", \"EICHERMOT\", \"GAIL\", \"GRASIM\", \"HCLTECH\", \"HDFC\", \"HDFCBANK\", \"HINDALCO\", \"HINDUNILVR\", \"ICICIBANK\", \"INDUSINDBK\", \"INFY\", \"IOC\", \"ITC\", \"JSWSTEEL\", \"KOTAKBANK\", \"LT\", \"M&M\", \"MARUTI\", \"NTPC\", \"ONGC\", \"POWERGRID\", \"RELIANCE\", \"SBIN\", \"SUNPHARMA\", \"TATAMOTORS\", \"TATASTEEL\", \"TCS\", \"TECHM\", \"TITAN\", \"ULTRACEMCO\", \"WIPRO\", \"YESBANK\", \"ZEEL\"], \"y\": [1519.300049, 780.700012, 3412.9499509999996, 7721.25, 3131.75, 516.773987, 542.849976, 3450.070068, 739.599976, 443.39999400000005, 4347.600098, 32861.898438, 393.799988, 1293.449951, 1183.349976, 2069.149902, 2367.949951, 279.799988, 1860.550049, 407.5, 2023.050049, 767.25, 328.5, 342.5, 417.049988, 1417.800049, 1455.599976, 983.849976, 9832.450195, 237.20799300000002, 310.433014, 225.94999700000002, 1408.849976, 343.34500099999997, 1169.300049, 598.133972, 891.1900019999999, 2260.350098, 837.0, 1162.300049, 4619.0, 359.528992, 394.0, 613.400024]}, {\"name\": \"avg\", \"type\": \"bar\", \"x\": [\"ASIANPAINT\", \"AXISBANK\", \"BAJAJ-AUTO\", \"BAJAJFINSV\", \"BAJFINANCE\", \"BHARTIARTL\", \"BPCL\", \"BRITANNIA\", \"CIPLA\", \"COALINDIA\", \"DRREDDY\", \"EICHERMOT\", \"GAIL\", \"GRASIM\", \"HCLTECH\", \"HDFC\", \"HDFCBANK\", \"HINDALCO\", \"HINDUNILVR\", \"ICICIBANK\", \"INDUSINDBK\", \"INFY\", \"IOC\", \"ITC\", \"JSWSTEEL\", \"KOTAKBANK\", \"LT\", \"M&M\", \"MARUTI\", \"NTPC\", \"ONGC\", \"POWERGRID\", \"RELIANCE\", \"SBIN\", \"SUNPHARMA\", \"TATAMOTORS\", \"TATASTEEL\", \"TCS\", \"TECHM\", \"TITAN\", \"ULTRACEMCO\", \"WIPRO\", \"YESBANK\", \"ZEEL\"], \"y\": [421.140486467722, 220.82473494300598, 2696.389619002794, 1872.2173170433964, 395.0420333012478, 266.09549969097895, 143.3505878906513, 574.8887155074101, 303.28665719611945, 316.45278914163026, 1412.4555083385505, 6141.2420261236975, 171.6991021297536, 443.26527600959884, 389.43053598124914, 731.8706727012247, 557.9257375278651, 127.91487899729718, 479.2739074764198, 173.05578179121662, 472.36966927192094, 294.3189817681074, 74.26785511438119, 119.72607891362405, 102.69248238424397, 343.2014060505759, 643.8790253258271, 307.7671327161343, 2470.8016708190357, 131.21579567476942, 138.6898492270927, 133.43781083362526, 388.9265697437398, 157.08037277353327, 281.0200833907785, 198.18237731399955, 353.1457926274262, 749.4838713626348, 362.0572579124601, 202.3205067034023, 1837.3354825168035, 135.035645752035, 112.55737586410334, 208.05340712815024]}],\n",
       "                        {\"barmode\": \"group\", \"template\": {\"data\": {\"bar\": [{\"error_x\": {\"color\": \"#2a3f5f\"}, \"error_y\": {\"color\": \"#2a3f5f\"}, \"marker\": {\"line\": {\"color\": \"#E5ECF6\", \"width\": 0.5}}, \"type\": \"bar\"}], \"barpolar\": [{\"marker\": {\"line\": {\"color\": \"#E5ECF6\", \"width\": 0.5}}, \"type\": \"barpolar\"}], \"carpet\": [{\"aaxis\": {\"endlinecolor\": \"#2a3f5f\", \"gridcolor\": \"white\", \"linecolor\": \"white\", \"minorgridcolor\": \"white\", \"startlinecolor\": \"#2a3f5f\"}, \"baxis\": {\"endlinecolor\": \"#2a3f5f\", \"gridcolor\": \"white\", \"linecolor\": \"white\", \"minorgridcolor\": \"white\", \"startlinecolor\": \"#2a3f5f\"}, \"type\": \"carpet\"}], \"choropleth\": [{\"colorbar\": {\"outlinewidth\": 0, \"ticks\": \"\"}, \"type\": \"choropleth\"}], \"contour\": [{\"colorbar\": {\"outlinewidth\": 0, \"ticks\": \"\"}, \"colorscale\": [[0.0, \"#0d0887\"], [0.1111111111111111, \"#46039f\"], [0.2222222222222222, \"#7201a8\"], [0.3333333333333333, \"#9c179e\"], [0.4444444444444444, \"#bd3786\"], [0.5555555555555556, \"#d8576b\"], [0.6666666666666666, \"#ed7953\"], [0.7777777777777778, \"#fb9f3a\"], [0.8888888888888888, \"#fdca26\"], [1.0, \"#f0f921\"]], \"type\": \"contour\"}], \"contourcarpet\": [{\"colorbar\": {\"outlinewidth\": 0, \"ticks\": \"\"}, \"type\": \"contourcarpet\"}], \"heatmap\": [{\"colorbar\": {\"outlinewidth\": 0, \"ticks\": \"\"}, \"colorscale\": [[0.0, \"#0d0887\"], [0.1111111111111111, \"#46039f\"], [0.2222222222222222, \"#7201a8\"], [0.3333333333333333, \"#9c179e\"], [0.4444444444444444, \"#bd3786\"], [0.5555555555555556, \"#d8576b\"], [0.6666666666666666, \"#ed7953\"], [0.7777777777777778, \"#fb9f3a\"], [0.8888888888888888, \"#fdca26\"], [1.0, \"#f0f921\"]], \"type\": \"heatmap\"}], \"heatmapgl\": [{\"colorbar\": {\"outlinewidth\": 0, \"ticks\": \"\"}, \"colorscale\": [[0.0, \"#0d0887\"], [0.1111111111111111, \"#46039f\"], [0.2222222222222222, \"#7201a8\"], [0.3333333333333333, \"#9c179e\"], [0.4444444444444444, \"#bd3786\"], [0.5555555555555556, \"#d8576b\"], [0.6666666666666666, \"#ed7953\"], [0.7777777777777778, \"#fb9f3a\"], [0.8888888888888888, \"#fdca26\"], [1.0, \"#f0f921\"]], \"type\": \"heatmapgl\"}], \"histogram\": [{\"marker\": {\"colorbar\": {\"outlinewidth\": 0, \"ticks\": \"\"}}, \"type\": \"histogram\"}], \"histogram2d\": [{\"colorbar\": {\"outlinewidth\": 0, \"ticks\": \"\"}, \"colorscale\": [[0.0, \"#0d0887\"], [0.1111111111111111, \"#46039f\"], [0.2222222222222222, \"#7201a8\"], [0.3333333333333333, \"#9c179e\"], [0.4444444444444444, \"#bd3786\"], [0.5555555555555556, \"#d8576b\"], [0.6666666666666666, \"#ed7953\"], [0.7777777777777778, \"#fb9f3a\"], [0.8888888888888888, \"#fdca26\"], [1.0, \"#f0f921\"]], \"type\": \"histogram2d\"}], \"histogram2dcontour\": [{\"colorbar\": {\"outlinewidth\": 0, \"ticks\": \"\"}, \"colorscale\": [[0.0, \"#0d0887\"], [0.1111111111111111, \"#46039f\"], [0.2222222222222222, \"#7201a8\"], [0.3333333333333333, \"#9c179e\"], [0.4444444444444444, \"#bd3786\"], [0.5555555555555556, \"#d8576b\"], [0.6666666666666666, \"#ed7953\"], [0.7777777777777778, \"#fb9f3a\"], [0.8888888888888888, \"#fdca26\"], [1.0, \"#f0f921\"]], \"type\": \"histogram2dcontour\"}], \"mesh3d\": [{\"colorbar\": {\"outlinewidth\": 0, \"ticks\": \"\"}, \"type\": \"mesh3d\"}], \"parcoords\": [{\"line\": {\"colorbar\": {\"outlinewidth\": 0, \"ticks\": \"\"}}, \"type\": \"parcoords\"}], \"pie\": [{\"automargin\": true, \"type\": \"pie\"}], \"scatter\": [{\"marker\": {\"colorbar\": {\"outlinewidth\": 0, \"ticks\": \"\"}}, \"type\": \"scatter\"}], \"scatter3d\": [{\"line\": {\"colorbar\": {\"outlinewidth\": 0, \"ticks\": \"\"}}, \"marker\": {\"colorbar\": {\"outlinewidth\": 0, \"ticks\": \"\"}}, \"type\": \"scatter3d\"}], \"scattercarpet\": [{\"marker\": {\"colorbar\": {\"outlinewidth\": 0, \"ticks\": \"\"}}, \"type\": \"scattercarpet\"}], \"scattergeo\": [{\"marker\": {\"colorbar\": {\"outlinewidth\": 0, \"ticks\": \"\"}}, \"type\": \"scattergeo\"}], \"scattergl\": [{\"marker\": {\"colorbar\": {\"outlinewidth\": 0, \"ticks\": \"\"}}, \"type\": \"scattergl\"}], \"scattermapbox\": [{\"marker\": {\"colorbar\": {\"outlinewidth\": 0, \"ticks\": \"\"}}, \"type\": \"scattermapbox\"}], \"scatterpolar\": [{\"marker\": {\"colorbar\": {\"outlinewidth\": 0, \"ticks\": \"\"}}, \"type\": \"scatterpolar\"}], \"scatterpolargl\": [{\"marker\": {\"colorbar\": {\"outlinewidth\": 0, \"ticks\": \"\"}}, \"type\": \"scatterpolargl\"}], \"scatterternary\": [{\"marker\": {\"colorbar\": {\"outlinewidth\": 0, \"ticks\": \"\"}}, \"type\": \"scatterternary\"}], \"surface\": [{\"colorbar\": {\"outlinewidth\": 0, \"ticks\": \"\"}, \"colorscale\": [[0.0, \"#0d0887\"], [0.1111111111111111, \"#46039f\"], [0.2222222222222222, \"#7201a8\"], [0.3333333333333333, \"#9c179e\"], [0.4444444444444444, \"#bd3786\"], [0.5555555555555556, \"#d8576b\"], [0.6666666666666666, \"#ed7953\"], [0.7777777777777778, \"#fb9f3a\"], [0.8888888888888888, \"#fdca26\"], [1.0, \"#f0f921\"]], \"type\": \"surface\"}], \"table\": [{\"cells\": {\"fill\": {\"color\": \"#EBF0F8\"}, \"line\": {\"color\": \"white\"}}, \"header\": {\"fill\": {\"color\": \"#C8D4E3\"}, \"line\": {\"color\": \"white\"}}, \"type\": \"table\"}]}, \"layout\": {\"annotationdefaults\": {\"arrowcolor\": \"#2a3f5f\", \"arrowhead\": 0, \"arrowwidth\": 1}, \"coloraxis\": {\"colorbar\": {\"outlinewidth\": 0, \"ticks\": \"\"}}, \"colorscale\": {\"diverging\": [[0, \"#8e0152\"], [0.1, \"#c51b7d\"], [0.2, \"#de77ae\"], [0.3, \"#f1b6da\"], [0.4, \"#fde0ef\"], [0.5, \"#f7f7f7\"], [0.6, \"#e6f5d0\"], [0.7, \"#b8e186\"], [0.8, \"#7fbc41\"], [0.9, \"#4d9221\"], [1, \"#276419\"]], \"sequential\": [[0.0, \"#0d0887\"], [0.1111111111111111, \"#46039f\"], [0.2222222222222222, \"#7201a8\"], [0.3333333333333333, \"#9c179e\"], [0.4444444444444444, \"#bd3786\"], [0.5555555555555556, \"#d8576b\"], [0.6666666666666666, \"#ed7953\"], [0.7777777777777778, \"#fb9f3a\"], [0.8888888888888888, \"#fdca26\"], [1.0, \"#f0f921\"]], \"sequentialminus\": [[0.0, \"#0d0887\"], [0.1111111111111111, \"#46039f\"], [0.2222222222222222, \"#7201a8\"], [0.3333333333333333, \"#9c179e\"], [0.4444444444444444, \"#bd3786\"], [0.5555555555555556, \"#d8576b\"], [0.6666666666666666, \"#ed7953\"], [0.7777777777777778, \"#fb9f3a\"], [0.8888888888888888, \"#fdca26\"], [1.0, \"#f0f921\"]]}, \"colorway\": [\"#636efa\", \"#EF553B\", \"#00cc96\", \"#ab63fa\", \"#FFA15A\", \"#19d3f3\", \"#FF6692\", \"#B6E880\", \"#FF97FF\", \"#FECB52\"], \"font\": {\"color\": \"#2a3f5f\"}, \"geo\": {\"bgcolor\": \"white\", \"lakecolor\": \"white\", \"landcolor\": \"#E5ECF6\", \"showlakes\": true, \"showland\": true, \"subunitcolor\": \"white\"}, \"hoverlabel\": {\"align\": \"left\"}, \"hovermode\": \"closest\", \"mapbox\": {\"style\": \"light\"}, \"paper_bgcolor\": \"white\", \"plot_bgcolor\": \"#E5ECF6\", \"polar\": {\"angularaxis\": {\"gridcolor\": \"white\", \"linecolor\": \"white\", \"ticks\": \"\"}, \"bgcolor\": \"#E5ECF6\", \"radialaxis\": {\"gridcolor\": \"white\", \"linecolor\": \"white\", \"ticks\": \"\"}}, \"scene\": {\"xaxis\": {\"backgroundcolor\": \"#E5ECF6\", \"gridcolor\": \"white\", \"gridwidth\": 2, \"linecolor\": \"white\", \"showbackground\": true, \"ticks\": \"\", \"zerolinecolor\": \"white\"}, \"yaxis\": {\"backgroundcolor\": \"#E5ECF6\", \"gridcolor\": \"white\", \"gridwidth\": 2, \"linecolor\": \"white\", \"showbackground\": true, \"ticks\": \"\", \"zerolinecolor\": \"white\"}, \"zaxis\": {\"backgroundcolor\": \"#E5ECF6\", \"gridcolor\": \"white\", \"gridwidth\": 2, \"linecolor\": \"white\", \"showbackground\": true, \"ticks\": \"\", \"zerolinecolor\": \"white\"}}, \"shapedefaults\": {\"line\": {\"color\": \"#2a3f5f\"}}, \"ternary\": {\"aaxis\": {\"gridcolor\": \"white\", \"linecolor\": \"white\", \"ticks\": \"\"}, \"baxis\": {\"gridcolor\": \"white\", \"linecolor\": \"white\", \"ticks\": \"\"}, \"bgcolor\": \"#E5ECF6\", \"caxis\": {\"gridcolor\": \"white\", \"linecolor\": \"white\", \"ticks\": \"\"}}, \"title\": {\"x\": 0.05}, \"xaxis\": {\"automargin\": true, \"gridcolor\": \"white\", \"linecolor\": \"white\", \"ticks\": \"\", \"title\": {\"standoff\": 15}, \"zerolinecolor\": \"white\", \"zerolinewidth\": 2}, \"yaxis\": {\"automargin\": true, \"gridcolor\": \"white\", \"linecolor\": \"white\", \"ticks\": \"\", \"title\": {\"standoff\": 15}, \"zerolinecolor\": \"white\", \"zerolinewidth\": 2}}}, \"title\": {\"text\": \"Min-Max-Avg of Nifty50 stocks\"}},\n",
       "                        {\"responsive\": true}\n",
       "                    ).then(function(){\n",
       "                            \n",
       "var gd = document.getElementById('59a77b5a-7b78-4451-a9aa-55f7dcbabf7f');\n",
       "var x = new MutationObserver(function (mutations, observer) {{\n",
       "        var display = window.getComputedStyle(gd).display;\n",
       "        if (!display || display === 'none') {{\n",
       "            console.log([gd, 'removed!']);\n",
       "            Plotly.purge(gd);\n",
       "            observer.disconnect();\n",
       "        }}\n",
       "}});\n",
       "\n",
       "// Listen for the removal of the full notebook cells\n",
       "var notebookContainer = gd.closest('#notebook-container');\n",
       "if (notebookContainer) {{\n",
       "    x.observe(notebookContainer, {childList: true});\n",
       "}}\n",
       "\n",
       "// Listen for the clearing of the current output cell\n",
       "var outputEl = gd.closest('.output');\n",
       "if (outputEl) {{\n",
       "    x.observe(outputEl, {childList: true});\n",
       "}}\n",
       "\n",
       "                        })\n",
       "                };\n",
       "                });\n",
       "            </script>\n",
       "        </div>"
      ]
     },
     "metadata": {},
     "output_type": "display_data"
    }
   ],
   "source": [
    "# Plot the above stats in plotly\n",
    "stocks = stock_stats.index\n",
    "fig = go.Figure(data = [\n",
    "                            go.Bar(name='min', x=stocks, y=stock_stats['min']),\n",
    "                            go.Bar(name='max', x=stocks, y=stock_stats['max']),\n",
    "                            go.Bar(name='avg', x=stocks, y=stock_stats['mean'])\n",
    "                        ],\n",
    "                layout_title_text = 'Min-Max-Avg of Nifty50 stocks'\n",
    "               )\n",
    "fig.update_layout(barmode='group')\n",
    "fig.show()"
   ]
  },
  {
   "cell_type": "code",
   "execution_count": 9,
   "metadata": {},
   "outputs": [],
   "source": [
    "# Calculate the moving average of each stock\n",
    "# Create a column for moving average 50 and moving average 10\n",
    "df_stock_data['MA50'] = df_stock_data.groupby(['stock_symbol'])['close'].transform(lambda x: x.rolling(50,1).mean())\n",
    "df_stock_data['MA10'] = df_stock_data.groupby(['stock_symbol'])['close'].transform(lambda x: x.rolling(10,1).mean())"
   ]
  },
  {
   "cell_type": "code",
   "execution_count": 10,
   "metadata": {},
   "outputs": [
    {
     "data": {
      "text/html": [
       "<div>\n",
       "<style scoped>\n",
       "    .dataframe tbody tr th:only-of-type {\n",
       "        vertical-align: middle;\n",
       "    }\n",
       "\n",
       "    .dataframe tbody tr th {\n",
       "        vertical-align: top;\n",
       "    }\n",
       "\n",
       "    .dataframe thead th {\n",
       "        text-align: right;\n",
       "    }\n",
       "</style>\n",
       "<table border=\"1\" class=\"dataframe\">\n",
       "  <thead>\n",
       "    <tr style=\"text-align: right;\">\n",
       "      <th></th>\n",
       "      <th>Date</th>\n",
       "      <th>open</th>\n",
       "      <th>high</th>\n",
       "      <th>low</th>\n",
       "      <th>close</th>\n",
       "      <th>adj_close</th>\n",
       "      <th>volume</th>\n",
       "      <th>stock_symbol</th>\n",
       "      <th>MA50</th>\n",
       "      <th>MA10</th>\n",
       "    </tr>\n",
       "  </thead>\n",
       "  <tbody>\n",
       "    <tr>\n",
       "      <th>4849</th>\n",
       "      <td>2019-05-09</td>\n",
       "      <td>299.399994</td>\n",
       "      <td>301.299988</td>\n",
       "      <td>296.350006</td>\n",
       "      <td>299.850006</td>\n",
       "      <td>299.850006</td>\n",
       "      <td>10223616.0</td>\n",
       "      <td>ITC</td>\n",
       "      <td>294.428998</td>\n",
       "      <td>303.514999</td>\n",
       "    </tr>\n",
       "    <tr>\n",
       "      <th>4850</th>\n",
       "      <td>2019-05-10</td>\n",
       "      <td>300.000000</td>\n",
       "      <td>300.450012</td>\n",
       "      <td>296.899994</td>\n",
       "      <td>297.750000</td>\n",
       "      <td>297.750000</td>\n",
       "      <td>6904657.0</td>\n",
       "      <td>ITC</td>\n",
       "      <td>294.866998</td>\n",
       "      <td>302.644998</td>\n",
       "    </tr>\n",
       "    <tr>\n",
       "      <th>4851</th>\n",
       "      <td>2019-05-13</td>\n",
       "      <td>295.100006</td>\n",
       "      <td>303.500000</td>\n",
       "      <td>287.700012</td>\n",
       "      <td>289.299988</td>\n",
       "      <td>289.299988</td>\n",
       "      <td>35880558.0</td>\n",
       "      <td>ITC</td>\n",
       "      <td>295.151998</td>\n",
       "      <td>301.159998</td>\n",
       "    </tr>\n",
       "    <tr>\n",
       "      <th>4852</th>\n",
       "      <td>2019-05-14</td>\n",
       "      <td>291.000000</td>\n",
       "      <td>298.250000</td>\n",
       "      <td>288.850006</td>\n",
       "      <td>294.350006</td>\n",
       "      <td>294.350006</td>\n",
       "      <td>21145225.0</td>\n",
       "      <td>ITC</td>\n",
       "      <td>295.552999</td>\n",
       "      <td>300.139999</td>\n",
       "    </tr>\n",
       "    <tr>\n",
       "      <th>4853</th>\n",
       "      <td>2019-05-15</td>\n",
       "      <td>297.549988</td>\n",
       "      <td>297.950012</td>\n",
       "      <td>292.000000</td>\n",
       "      <td>297.100006</td>\n",
       "      <td>297.100006</td>\n",
       "      <td>7694095.0</td>\n",
       "      <td>ITC</td>\n",
       "      <td>295.960999</td>\n",
       "      <td>299.714999</td>\n",
       "    </tr>\n",
       "  </tbody>\n",
       "</table>\n",
       "</div>"
      ],
      "text/plain": [
       "            Date        open        high         low       close   adj_close  \\\n",
       "4849  2019-05-09  299.399994  301.299988  296.350006  299.850006  299.850006   \n",
       "4850  2019-05-10  300.000000  300.450012  296.899994  297.750000  297.750000   \n",
       "4851  2019-05-13  295.100006  303.500000  287.700012  289.299988  289.299988   \n",
       "4852  2019-05-14  291.000000  298.250000  288.850006  294.350006  294.350006   \n",
       "4853  2019-05-15  297.549988  297.950012  292.000000  297.100006  297.100006   \n",
       "\n",
       "          volume stock_symbol        MA50        MA10  \n",
       "4849  10223616.0          ITC  294.428998  303.514999  \n",
       "4850   6904657.0          ITC  294.866998  302.644998  \n",
       "4851  35880558.0          ITC  295.151998  301.159998  \n",
       "4852  21145225.0          ITC  295.552999  300.139999  \n",
       "4853   7694095.0          ITC  295.960999  299.714999  "
      ]
     },
     "execution_count": 10,
     "metadata": {},
     "output_type": "execute_result"
    }
   ],
   "source": [
    "df_stock_data[df_stock_data['stock_symbol']=='ITC'].tail()"
   ]
  },
  {
   "cell_type": "code",
   "execution_count": 11,
   "metadata": {},
   "outputs": [],
   "source": [
    "# Add the 'Shares' columns which tell when you are holding the stock and when you are not\n",
    "# As long as the MA10 > MA50 we hold the stock and Shares column say 1.\n",
    "# If MA10 < MA50, we don't hold the stock and the column says 0\n",
    "\n",
    "df_stock_data['Shares'] = df_stock_data.apply(lambda x: 1 if x['MA10']>x['MA50'] else 0, axis=1)\n",
    "\n",
    "# Get the next day closing price to calcculate the profit\n",
    "df_stock_data['Close_next_day'] = df_stock_data.groupby(['stock_symbol'])['close'].shift(-1)\n",
    "\n",
    "# Profit is calculated for only those days we hold the stock. It is the difference between today and tomorrow close price\n",
    "df_stock_data['Profit'] = df_stock_data.apply(lambda x: x['Close_next_day'] - x['close'] if x['Shares']==1 else 0, axis=1)"
   ]
  },
  {
   "cell_type": "code",
   "execution_count": 12,
   "metadata": {},
   "outputs": [
    {
     "data": {
      "application/vnd.jupyter.widget-view+json": {
       "model_id": "7074bafe084744788a4e3f01f3791da5",
       "version_major": 2,
       "version_minor": 0
      },
      "text/plain": [
       "VBox(children=(Dropdown(description='Stock Symbol: ', options=('ALL', 'ASIANPAINT', 'AXISBANK', 'BAJAJ-AUTO', …"
      ]
     },
     "metadata": {},
     "output_type": "display_data"
    }
   ],
   "source": [
    "# Create a plotly graph to show Profit on each day, closing price, MA50 and MA10\n",
    "# You can use the filter the data to different stocks. Default is ALL selection\n",
    "dates = df_stock_data.Date\n",
    "fig = go.FigureWidget(data = [\n",
    "                            go.Line(name='Profit', x=dates, y=df_stock_data['Profit']),\n",
    "                            go.Line(name='close', x=dates, y=df_stock_data['close']),\n",
    "                            go.Line(name='MA50', x=dates, y=df_stock_data['MA50']),\n",
    "                            go.Line(name='MA10', x=dates, y=df_stock_data['MA10'])\n",
    "                        ],\n",
    "                layout_title_text = 'Profit-Close-MA50-MA10 of Nifty50 stocks'\n",
    "               )\n",
    "fig.update_layout(xaxis = dict(rangeslider=dict(\n",
    "            visible = True)\n",
    "        ))\n",
    "\n",
    "def update_fig(change):\n",
    "    if dropdown.value == 'ALL':\n",
    "        aux_df =  df_stock_data\n",
    "    else:\n",
    "        aux_df = df_stock_data[df_stock_data.stock_symbol.isin([dropdown.value])]\n",
    "    with fig.batch_update():\n",
    "        for trace, column in zip(fig.data, ['Profit', 'close', 'MA50', 'MA10']):\n",
    "            trace.x = aux_df['Date']\n",
    "            trace.y = aux_df[column]\n",
    "            \n",
    "dropdown = w.Dropdown(description='Stock Symbol: ',options=['ALL']+df_stock_data.stock_symbol.unique().tolist(),value='ALL')\n",
    "dropdown.observe(update_fig, names='value')\n",
    "display(w.VBox([dropdown, fig]))\n"
   ]
  },
  {
   "cell_type": "code",
   "execution_count": 13,
   "metadata": {},
   "outputs": [],
   "source": [
    "# Calculate the cumulative wealth aquired on each stock by summing up each days profit\n",
    "\n",
    "df_stock_data['wealth'] = df_stock_data.groupby(['stock_symbol'])['Profit'].cumsum()"
   ]
  },
  {
   "cell_type": "code",
   "execution_count": 14,
   "metadata": {},
   "outputs": [
    {
     "data": {
      "application/vnd.jupyter.widget-view+json": {
       "model_id": "a8f0f8605ce44d658e098aa3acb547b1",
       "version_major": 2,
       "version_minor": 0
      },
      "text/plain": [
       "VBox(children=(Dropdown(description='Stock Symbol: ', options=('ALL', 'ASIANPAINT', 'AXISBANK', 'BAJAJ-AUTO', …"
      ]
     },
     "metadata": {},
     "output_type": "display_data"
    }
   ],
   "source": [
    "# Ploting the cummulative profit of the stock over time period.\n",
    "# The red line serves as the 0 reference line\n",
    "dates = df_stock_data.Date\n",
    "fig = go.FigureWidget(data = [\n",
    "                            go.Line(name='Wealth', x=dates, y=df_stock_data['wealth']),\n",
    "                            go.Scatter(name='Zero-Line',x=dates,y=[0] * len(dates), mode='lines')\n",
    "                        ],\n",
    "                layout_title_text = 'Accumulated wealth of Nifty50 stocks'\n",
    "               )\n",
    "fig.update_layout(xaxis = dict(rangeslider=dict(\n",
    "            visible = True)\n",
    "        ))\n",
    "\n",
    "def update_fig(change):\n",
    "    if dropdown.value == 'ALL':\n",
    "        aux_df =  df_stock_data\n",
    "    else:\n",
    "        aux_df = df_stock_data[df_stock_data.stock_symbol.isin([dropdown.value])]\n",
    "    with fig.batch_update():\n",
    "        for trace, column in zip(fig.data, ['wealth','reference']):\n",
    "            trace.x = aux_df['Date']\n",
    "            trace.y = aux_df[column]\n",
    "            \n",
    "dropdown = w.Dropdown(description='Stock Symbol: ',options=['ALL']+df_stock_data.stock_symbol.unique().tolist(),value='ALL')\n",
    "dropdown.observe(update_fig, names='value')\n",
    "display(w.VBox([dropdown, fig]))"
   ]
  },
  {
   "cell_type": "code",
   "execution_count": null,
   "metadata": {},
   "outputs": [],
   "source": []
  },
  {
   "cell_type": "code",
   "execution_count": null,
   "metadata": {},
   "outputs": [],
   "source": []
  }
 ],
 "metadata": {
  "kernelspec": {
   "display_name": "Python 3",
   "language": "python",
   "name": "python3"
  },
  "language_info": {
   "codemirror_mode": {
    "name": "ipython",
    "version": 3
   },
   "file_extension": ".py",
   "mimetype": "text/x-python",
   "name": "python",
   "nbconvert_exporter": "python",
   "pygments_lexer": "ipython3",
   "version": "3.7.3"
  }
 },
 "nbformat": 4,
 "nbformat_minor": 4
}
